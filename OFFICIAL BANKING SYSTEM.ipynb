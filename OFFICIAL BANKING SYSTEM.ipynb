{
 "cells": [
  {
   "cell_type": "code",
   "execution_count": null,
   "metadata": {},
   "outputs": [],
   "source": [
    "class CustomerBankAccount:\n",
    "    def __init__(self, customer_name, balance=0.00):\n",
    "        self.name = customer_name.title()\n",
    "        self.balance = balance\n",
    "    def deposit(self, deposit):\n",
    "        self.deposit = deposit\n",
    "        print(f\"Welcome {self.name}.\")\n",
    "        self.balance+=self.deposit\n",
    "        amount = \"Balance: ${:,.2f}\".format(self.balance)\n",
    "        print(amount)\n",
    "    def withdraw(self, withdraw):\n",
    "        self.withdraw = withdraw\n",
    "        print(f\"Welcome {self.name}.\")\n",
    "        if self.withdraw > self.balance:\n",
    "            print(f\"You cannot withdraw more than what's in your account!\")\n",
    "        else:\n",
    "            self.balance-=self.withdraw\n",
    "            amount = \"Balance: ${:,.2f}\".format(self.balance)\n",
    "            print(amount)\n",
    "bank_account = CustomerBankAccount('raja adil', 400000) \n",
    "bank_account.deposit(360000)\n",
    "print('')\n",
    "bank_account.withdraw(40000)"
   ]
  }
 ],
 "metadata": {
  "kernelspec": {
   "display_name": "Python 3",
   "language": "python",
   "name": "python3"
  },
  "language_info": {
   "codemirror_mode": {
    "name": "ipython",
    "version": 3
   },
   "file_extension": ".py",
   "mimetype": "text/x-python",
   "name": "python",
   "nbconvert_exporter": "python",
   "pygments_lexer": "ipython3",
   "version": "3.7.7"
  }
 },
 "nbformat": 4,
 "nbformat_minor": 4
}
